{
  "nbformat": 4,
  "nbformat_minor": 0,
  "metadata": {
    "accelerator": "GPU",
    "colab": {
      "provenance": []
    },
    "kernelspec": {
      "display_name": "Python 3",
      "name": "python3"
    },
    "language_info": {
      "name": "python"
    }
  },
  "cells": [
    {
      "cell_type": "code",
      "metadata": {
        "id": "NFJd3yxYIsUW"
      },
      "source": [
        "import tensorflow as tf\n",
        "from tensorflow import keras\n",
        "import matplotlib.pyplot as plt\n",
        "import numpy as np\n",
        "import random"
      ],
      "execution_count": null,
      "outputs": []
    },
    {
      "cell_type": "code",
      "metadata": {
        "id": "sG7MhNqJPNQV",
        "colab": {
          "base_uri": "https://localhost:8080/"
        },
        "outputId": "156a7728-6d1a-47d2-c47b-e71cfd8b8a0e"
      },
      "source": [
        "(x_train, y_train), (x_test, y_test) = keras.datasets.cifar10.load_data()\n",
        "\n",
        "assert x_train.shape == (50000, 32, 32, 3)\n",
        "assert x_test.shape == (10000, 32, 32, 3)\n",
        "assert y_train.shape == (50000, 1)\n",
        "assert y_test.shape == (10000, 1)"
      ],
      "execution_count": null,
      "outputs": [
        {
          "output_type": "stream",
          "name": "stdout",
          "text": [
            "Downloading data from https://www.cs.toronto.edu/~kriz/cifar-10-python.tar.gz\n",
            "170500096/170498071 [==============================] - 11s 0us/step\n",
            "170508288/170498071 [==============================] - 11s 0us/step\n"
          ]
        }
      ]
    },
    {
      "cell_type": "code",
      "metadata": {
        "colab": {
          "base_uri": "https://localhost:8080/",
          "height": 292
        },
        "id": "m1TxH-uQP47D",
        "outputId": "3fdedc01-ecf5-41fa-b2fc-e633f17ea5e6"
      },
      "source": [
        "plt.matshow(x_train[4])\n",
        "dimensions = x_train[4].shape\n",
        "\n",
        "# 32x32 with 3 channels\n",
        "print(dimensions)"
      ],
      "execution_count": null,
      "outputs": [
        {
          "name": "stdout",
          "output_type": "stream",
          "text": [
            "(32, 32, 3)\n"
          ]
        },
        {
          "data": {
            "image/png": "[encoded data removed]",
            "text/plain": [
              "<Figure size 288x288 with 1 Axes>"
            ]
          },
          "metadata": {},
          "output_type": "display_data"
        }
      ]
    },
    {
      "cell_type": "code",
      "metadata": {
        "colab": {
          "base_uri": "https://localhost:8080/"
        },
        "id": "5KDB1KIsQkkP",
        "outputId": "4b904165-7ea2-48f3-8182-71ee56f6a271"
      },
      "source": [
        "print(x_train[4])"
      ],
      "execution_count": null,
      "outputs": [
        {
          "name": "stdout",
          "output_type": "stream",
          "text": [
            "[[[170 180 198]\n",
            "  [168 178 196]\n",
            "  [177 185 203]\n",
            "  ...\n",
            "  [162 179 215]\n",
            "  [158 178 214]\n",
            "  [157 177 212]]\n",
            "\n",
            " [[168 181 198]\n",
            "  [172 185 201]\n",
            "  [171 183 200]\n",
            "  ...\n",
            "  [159 177 212]\n",
            "  [156 176 211]\n",
            "  [154 174 209]]\n",
            "\n",
            " [[154 170 186]\n",
            "  [149 165 181]\n",
            "  [129 144 162]\n",
            "  ...\n",
            "  [161 178 214]\n",
            "  [157 177 212]\n",
            "  [154 174 209]]\n",
            "\n",
            " ...\n",
            "\n",
            " [[ 74  84  80]\n",
            "  [ 76  85  81]\n",
            "  [ 78  85  82]\n",
            "  ...\n",
            "  [ 71  75  78]\n",
            "  [ 68  72  75]\n",
            "  [ 61  65  68]]\n",
            "\n",
            " [[ 68  76  77]\n",
            "  [ 69  77  78]\n",
            "  [ 72  79  78]\n",
            "  ...\n",
            "  [ 76  80  83]\n",
            "  [ 71  75  78]\n",
            "  [ 71  75  78]]\n",
            "\n",
            " [[ 67  75  78]\n",
            "  [ 68  76  79]\n",
            "  [ 69  75  76]\n",
            "  ...\n",
            "  [ 75  79  82]\n",
            "  [ 71  75  78]\n",
            "  [ 73  77  80]]]\n"
          ]
        }
      ]
    },
    {
      "cell_type": "code",
      "metadata": {
        "id": "DWgaF618QVKD"
      },
      "source": [
        "# Normalizing image values \n",
        "\n",
        "x_train = x_train / 255.0\n",
        "x_test = x_test / 255.0"
      ],
      "execution_count": null,
      "outputs": []
    },
    {
      "cell_type": "code",
      "metadata": {
        "colab": {
          "base_uri": "https://localhost:8080/"
        },
        "id": "XlBLgp3kKzjw",
        "outputId": "c5f03299-c156-42b8-ef61-8d65b1ee3ea8"
      },
      "source": [
        "# transform labels to categorical values\n",
        "\n",
        "N_CLASSES = 10\n",
        "y_train = keras.utils.to_categorical(y_train, N_CLASSES)\n",
        "print(\"Y_train shape/type changed to \", y_train.shape, y_train.dtype)\n",
        "\n",
        "# 10 posibles outputs\n",
        "y_test = keras.utils.to_categorical(y_test, N_CLASSES)"
      ],
      "execution_count": null,
      "outputs": [
        {
          "output_type": "stream",
          "name": "stdout",
          "text": [
            "Y_train shape/type changed to  (50000, 10) float32\n"
          ]
        }
      ]
    },
    {
      "cell_type": "code",
      "metadata": {
        "colab": {
          "base_uri": "https://localhost:8080/"
        },
        "id": "QbYCC6HfQ1KC",
        "outputId": "669b178c-8f6b-40a5-e8fc-035aa1b050db"
      },
      "source": [
        "print(x_train[4])"
      ],
      "execution_count": null,
      "outputs": [
        {
          "name": "stdout",
          "output_type": "stream",
          "text": [
            "[[[0.66666667 0.70588235 0.77647059]\n",
            "  [0.65882353 0.69803922 0.76862745]\n",
            "  [0.69411765 0.7254902  0.79607843]\n",
            "  ...\n",
            "  [0.63529412 0.70196078 0.84313725]\n",
            "  [0.61960784 0.69803922 0.83921569]\n",
            "  [0.61568627 0.69411765 0.83137255]]\n",
            "\n",
            " [[0.65882353 0.70980392 0.77647059]\n",
            "  [0.6745098  0.7254902  0.78823529]\n",
            "  [0.67058824 0.71764706 0.78431373]\n",
            "  ...\n",
            "  [0.62352941 0.69411765 0.83137255]\n",
            "  [0.61176471 0.69019608 0.82745098]\n",
            "  [0.60392157 0.68235294 0.81960784]]\n",
            "\n",
            " [[0.60392157 0.66666667 0.72941176]\n",
            "  [0.58431373 0.64705882 0.70980392]\n",
            "  [0.50588235 0.56470588 0.63529412]\n",
            "  ...\n",
            "  [0.63137255 0.69803922 0.83921569]\n",
            "  [0.61568627 0.69411765 0.83137255]\n",
            "  [0.60392157 0.68235294 0.81960784]]\n",
            "\n",
            " ...\n",
            "\n",
            " [[0.29019608 0.32941176 0.31372549]\n",
            "  [0.29803922 0.33333333 0.31764706]\n",
            "  [0.30588235 0.33333333 0.32156863]\n",
            "  ...\n",
            "  [0.27843137 0.29411765 0.30588235]\n",
            "  [0.26666667 0.28235294 0.29411765]\n",
            "  [0.23921569 0.25490196 0.26666667]]\n",
            "\n",
            " [[0.26666667 0.29803922 0.30196078]\n",
            "  [0.27058824 0.30196078 0.30588235]\n",
            "  [0.28235294 0.30980392 0.30588235]\n",
            "  ...\n",
            "  [0.29803922 0.31372549 0.3254902 ]\n",
            "  [0.27843137 0.29411765 0.30588235]\n",
            "  [0.27843137 0.29411765 0.30588235]]\n",
            "\n",
            " [[0.2627451  0.29411765 0.30588235]\n",
            "  [0.26666667 0.29803922 0.30980392]\n",
            "  [0.27058824 0.29411765 0.29803922]\n",
            "  ...\n",
            "  [0.29411765 0.30980392 0.32156863]\n",
            "  [0.27843137 0.29411765 0.30588235]\n",
            "  [0.28627451 0.30196078 0.31372549]]]\n"
          ]
        }
      ]
    },
    {
      "cell_type": "markdown",
      "metadata": {
        "id": "3rkgySBK4O9m"
      },
      "source": [
        "La representación gráfica del maxpooling: \n",
        "https://computersciencewiki.org/images/8/8a/MaxpoolSample2.png"
      ]
    },
    {
      "cell_type": "code",
      "metadata": {
        "id": "BxeFyObvRG2R"
      },
      "source": [
        "def create_model() -> keras.Sequential:\n",
        "  # Modelo secuencial\n",
        "  cifar10_model = tf.keras.models.Sequential()\n",
        "\n",
        "  # Agrego la capa de entrada donde específico el tamaño de los datos de entrada\n",
        "  cifar10_model.add(tf.keras.layers.Input(shape=(32, 32, 3)))\n",
        "\n",
        "  # Agrego una capa convolucional con 32 filtros, con kernel size 3, dejando el mismo tamaño inicial (padding=same)\n",
        "  # Y aplico la activación mediante ReLU\n",
        "  cifar10_model.add(tf.keras.layers.Conv2D(filters=64, kernel_size=3, padding=\"same\", activation=\"relu\"))\n",
        "\n",
        "  # Capa de maxpool, pool_size -> Tamaño máximo de la ventana\n",
        "  # Strides, especifica cuanto recorre en cada paso que se realize en el pooling\n",
        "  cifar10_model.add(tf.keras.layers.MaxPool2D(pool_size=(2,2), strides=(2,2)))\n",
        "\n",
        "  # Dropout layer permite generar conexiones aleatorias entre las capas\n",
        "  cifar10_model.add(tf.keras.layers.Dropout(0.4))\n",
        "\n",
        "  #Agrego capa de Conv2D\n",
        "  cifar10_model.add(tf.keras.layers.Conv2D(filters=32, kernel_size=3, padding=\"same\", activation=\"relu\"))\n",
        "\n",
        "  #Agrego capa de maxpool\n",
        "  cifar10_model.add(tf.keras.layers.MaxPool2D(pool_size=(4,4), strides=(2,2)))\n",
        "\n",
        "  # Agrego la capa final (capa de 1 dimensión final)\n",
        "  cifar10_model.add(tf.keras.layers.Flatten())\n",
        "\n",
        "  # Debe distinguir entre 10 clases (categorías a clasificar) que se eligen mediante softmax\n",
        "  cifar10_model.add(tf.keras.layers.Dense(10, activation=\"softmax\"))\n",
        "\n",
        "  return cifar10_model"
      ],
      "execution_count": null,
      "outputs": []
    },
    {
      "cell_type": "code",
      "metadata": {
        "colab": {
          "base_uri": "https://localhost:8080/"
        },
        "id": "DGOglT03Tiiw",
        "outputId": "68234f94-29e5-489a-c9bc-95ab53871d4d"
      },
      "source": [
        "model = create_model()\n",
        "\n",
        "model.summary()"
      ],
      "execution_count": null,
      "outputs": [
        {
          "name": "stdout",
          "output_type": "stream",
          "text": [
            "Model: \"sequential_6\"\n",
            "_________________________________________________________________\n",
            " Layer (type)                Output Shape              Param #   \n",
            "=================================================================\n",
            " conv2d_12 (Conv2D)          (None, 32, 32, 64)        1792      \n",
            "                                                                 \n",
            " max_pooling2d_12 (MaxPoolin  (None, 16, 16, 64)       0         \n",
            " g2D)                                                            \n",
            "                                                                 \n",
            " dropout_2 (Dropout)         (None, 16, 16, 64)        0         \n",
            "                                                                 \n",
            " conv2d_13 (Conv2D)          (None, 16, 16, 32)        18464     \n",
            "                                                                 \n",
            " max_pooling2d_13 (MaxPoolin  (None, 7, 7, 32)         0         \n",
            " g2D)                                                            \n",
            "                                                                 \n",
            " flatten_6 (Flatten)         (None, 1568)              0         \n",
            "                                                                 \n",
            " dense_6 (Dense)             (None, 10)                15690     \n",
            "                                                                 \n",
            "=================================================================\n",
            "Total params: 35,946\n",
            "Trainable params: 35,946\n",
            "Non-trainable params: 0\n",
            "_________________________________________________________________\n"
          ]
        }
      ]
    },
    {
      "cell_type": "code",
      "metadata": {
        "id": "xnAJENQAT3N9"
      },
      "source": [
        "model.compile(loss='categorical_crossentropy',optimizer='adam',metrics=['accuracy'])"
      ],
      "execution_count": null,
      "outputs": []
    },
    {
      "cell_type": "code",
      "metadata": {
        "colab": {
          "base_uri": "https://localhost:8080/"
        },
        "id": "xCGvfjG8T78F",
        "outputId": "1391ea2f-178b-4882-ce14-1250f9639397"
      },
      "source": [
        "# Epochs: Número de épocas (iteraciones) a realizar para que entrene la red\n",
        "# batch_size: Con cuantas muestras voy a entrenar en una iteración dentro de una época\n",
        "# p.e: si batch_size=100 y la muestra=1000 -> Realizaré 10 iteraciones dentro de una época\n",
        "# para entrenar con el conjunto de datos\n",
        "# validation_split es una fracción a utilizar para evaluar la red y que no se produzca\n",
        "# el overfitting (sobreajuste). Con esto consigo que mi modelo no se centre solo en resolver\n",
        "# su dataset, sino que se pueda aplicar de manera genérica.\n",
        "history = model.fit(x_train, y_train, epochs=50, batch_size=1000, validation_split=0.2)"
      ],
      "execution_count": null,
      "outputs": [
        {
          "name": "stdout",
          "output_type": "stream",
          "text": [
            "Epoch 1/50\n",
            "40/40 [==============================] - 4s 83ms/step - loss: 2.0778 - accuracy: 0.2419 - val_loss: 1.9257 - val_accuracy: 0.3268\n",
            "Epoch 2/50\n",
            "40/40 [==============================] - 3s 74ms/step - loss: 1.7358 - accuracy: 0.3830 - val_loss: 1.7432 - val_accuracy: 0.3804\n",
            "Epoch 3/50\n",
            "40/40 [==============================] - 3s 75ms/step - loss: 1.5884 - accuracy: 0.4309 - val_loss: 1.5465 - val_accuracy: 0.4579\n",
            "Epoch 4/50\n",
            "40/40 [==============================] - 3s 72ms/step - loss: 1.4855 - accuracy: 0.4733 - val_loss: 1.4523 - val_accuracy: 0.4911\n",
            "Epoch 5/50\n",
            "40/40 [==============================] - 3s 75ms/step - loss: 1.4032 - accuracy: 0.5017 - val_loss: 1.3892 - val_accuracy: 0.5194\n",
            "Epoch 6/50\n",
            "40/40 [==============================] - 3s 74ms/step - loss: 1.3451 - accuracy: 0.5268 - val_loss: 1.3154 - val_accuracy: 0.5430\n",
            "Epoch 7/50\n",
            "40/40 [==============================] - 3s 75ms/step - loss: 1.2960 - accuracy: 0.5455 - val_loss: 1.2654 - val_accuracy: 0.5648\n",
            "Epoch 8/50\n",
            "40/40 [==============================] - 3s 76ms/step - loss: 1.2658 - accuracy: 0.5591 - val_loss: 1.2577 - val_accuracy: 0.5612\n",
            "Epoch 9/50\n",
            "40/40 [==============================] - 3s 74ms/step - loss: 1.2268 - accuracy: 0.5720 - val_loss: 1.2290 - val_accuracy: 0.5756\n",
            "Epoch 10/50\n",
            "40/40 [==============================] - 3s 74ms/step - loss: 1.1944 - accuracy: 0.5851 - val_loss: 1.1838 - val_accuracy: 0.5929\n",
            "Epoch 11/50\n",
            "40/40 [==============================] - 3s 76ms/step - loss: 1.1723 - accuracy: 0.5943 - val_loss: 1.1616 - val_accuracy: 0.6003\n",
            "Epoch 12/50\n",
            "40/40 [==============================] - 3s 73ms/step - loss: 1.1539 - accuracy: 0.5989 - val_loss: 1.1460 - val_accuracy: 0.6111\n",
            "Epoch 13/50\n",
            "40/40 [==============================] - 3s 73ms/step - loss: 1.1349 - accuracy: 0.6072 - val_loss: 1.1584 - val_accuracy: 0.6043\n",
            "Epoch 14/50\n",
            "40/40 [==============================] - 3s 75ms/step - loss: 1.1134 - accuracy: 0.6136 - val_loss: 1.1058 - val_accuracy: 0.6195\n",
            "Epoch 15/50\n",
            "40/40 [==============================] - 3s 73ms/step - loss: 1.1091 - accuracy: 0.6127 - val_loss: 1.0979 - val_accuracy: 0.6264\n",
            "Epoch 16/50\n",
            "40/40 [==============================] - 3s 75ms/step - loss: 1.0882 - accuracy: 0.6230 - val_loss: 1.1137 - val_accuracy: 0.6160\n",
            "Epoch 17/50\n",
            "40/40 [==============================] - 3s 72ms/step - loss: 1.0809 - accuracy: 0.6246 - val_loss: 1.0844 - val_accuracy: 0.6330\n",
            "Epoch 18/50\n",
            "40/40 [==============================] - 3s 75ms/step - loss: 1.0648 - accuracy: 0.6319 - val_loss: 1.0635 - val_accuracy: 0.6351\n",
            "Epoch 19/50\n",
            "40/40 [==============================] - 3s 75ms/step - loss: 1.0531 - accuracy: 0.6335 - val_loss: 1.0449 - val_accuracy: 0.6432\n",
            "Epoch 20/50\n",
            "40/40 [==============================] - 3s 75ms/step - loss: 1.0360 - accuracy: 0.6383 - val_loss: 1.0470 - val_accuracy: 0.6440\n",
            "Epoch 21/50\n",
            "40/40 [==============================] - 3s 75ms/step - loss: 1.0258 - accuracy: 0.6461 - val_loss: 1.0530 - val_accuracy: 0.6386\n",
            "Epoch 22/50\n",
            "40/40 [==============================] - 3s 73ms/step - loss: 1.0185 - accuracy: 0.6471 - val_loss: 1.0282 - val_accuracy: 0.6456\n",
            "Epoch 23/50\n",
            "40/40 [==============================] - 3s 75ms/step - loss: 1.0144 - accuracy: 0.6483 - val_loss: 1.0289 - val_accuracy: 0.6447\n",
            "Epoch 24/50\n",
            "40/40 [==============================] - 3s 72ms/step - loss: 1.0040 - accuracy: 0.6522 - val_loss: 1.0077 - val_accuracy: 0.6557\n",
            "Epoch 25/50\n",
            "40/40 [==============================] - 3s 75ms/step - loss: 0.9972 - accuracy: 0.6541 - val_loss: 1.0097 - val_accuracy: 0.6550\n",
            "Epoch 26/50\n",
            "40/40 [==============================] - 3s 75ms/step - loss: 0.9902 - accuracy: 0.6575 - val_loss: 1.0058 - val_accuracy: 0.6579\n",
            "Epoch 27/50\n",
            "40/40 [==============================] - 3s 78ms/step - loss: 0.9844 - accuracy: 0.6576 - val_loss: 0.9885 - val_accuracy: 0.6646\n",
            "Epoch 28/50\n",
            "40/40 [==============================] - 3s 75ms/step - loss: 0.9780 - accuracy: 0.6631 - val_loss: 0.9997 - val_accuracy: 0.6531\n",
            "Epoch 29/50\n",
            "40/40 [==============================] - 3s 72ms/step - loss: 0.9726 - accuracy: 0.6661 - val_loss: 0.9965 - val_accuracy: 0.6572\n",
            "Epoch 30/50\n",
            "40/40 [==============================] - 3s 73ms/step - loss: 0.9607 - accuracy: 0.6691 - val_loss: 0.9961 - val_accuracy: 0.6592\n",
            "Epoch 31/50\n",
            "40/40 [==============================] - 3s 72ms/step - loss: 0.9577 - accuracy: 0.6702 - val_loss: 0.9833 - val_accuracy: 0.6641\n",
            "Epoch 32/50\n",
            "40/40 [==============================] - 3s 73ms/step - loss: 0.9574 - accuracy: 0.6704 - val_loss: 0.9664 - val_accuracy: 0.6681\n",
            "Epoch 33/50\n",
            "40/40 [==============================] - 3s 76ms/step - loss: 0.9403 - accuracy: 0.6766 - val_loss: 0.9578 - val_accuracy: 0.6722\n",
            "Epoch 34/50\n",
            "40/40 [==============================] - 3s 77ms/step - loss: 0.9363 - accuracy: 0.6783 - val_loss: 1.0026 - val_accuracy: 0.6537\n",
            "Epoch 35/50\n",
            "40/40 [==============================] - 3s 75ms/step - loss: 0.9401 - accuracy: 0.6765 - val_loss: 0.9744 - val_accuracy: 0.6661\n",
            "Epoch 36/50\n",
            "40/40 [==============================] - 3s 75ms/step - loss: 0.9313 - accuracy: 0.6790 - val_loss: 0.9975 - val_accuracy: 0.6515\n",
            "Epoch 37/50\n",
            "40/40 [==============================] - 3s 75ms/step - loss: 0.9281 - accuracy: 0.6821 - val_loss: 0.9666 - val_accuracy: 0.6646\n",
            "Epoch 38/50\n",
            "40/40 [==============================] - 3s 74ms/step - loss: 0.9212 - accuracy: 0.6827 - val_loss: 0.9443 - val_accuracy: 0.6781\n",
            "Epoch 39/50\n",
            "40/40 [==============================] - 3s 76ms/step - loss: 0.9081 - accuracy: 0.6875 - val_loss: 0.9577 - val_accuracy: 0.6733\n",
            "Epoch 40/50\n",
            "40/40 [==============================] - 3s 75ms/step - loss: 0.9042 - accuracy: 0.6887 - val_loss: 0.9635 - val_accuracy: 0.6702\n",
            "Epoch 41/50\n",
            "40/40 [==============================] - 3s 73ms/step - loss: 0.9105 - accuracy: 0.6879 - val_loss: 0.9350 - val_accuracy: 0.6793\n",
            "Epoch 42/50\n",
            "40/40 [==============================] - 3s 73ms/step - loss: 0.8985 - accuracy: 0.6909 - val_loss: 0.9368 - val_accuracy: 0.6791\n",
            "Epoch 43/50\n",
            "40/40 [==============================] - 3s 73ms/step - loss: 0.9000 - accuracy: 0.6910 - val_loss: 0.9665 - val_accuracy: 0.6660\n",
            "Epoch 44/50\n",
            "40/40 [==============================] - 3s 75ms/step - loss: 0.8951 - accuracy: 0.6909 - val_loss: 0.9544 - val_accuracy: 0.6718\n",
            "Epoch 45/50\n",
            "40/40 [==============================] - 3s 77ms/step - loss: 0.8908 - accuracy: 0.6948 - val_loss: 0.9266 - val_accuracy: 0.6831\n",
            "Epoch 46/50\n",
            "40/40 [==============================] - 3s 75ms/step - loss: 0.8890 - accuracy: 0.6960 - val_loss: 0.9240 - val_accuracy: 0.6837\n",
            "Epoch 47/50\n",
            "40/40 [==============================] - 3s 75ms/step - loss: 0.8796 - accuracy: 0.6955 - val_loss: 0.9228 - val_accuracy: 0.6847\n",
            "Epoch 48/50\n",
            "40/40 [==============================] - 3s 73ms/step - loss: 0.8754 - accuracy: 0.6992 - val_loss: 0.9346 - val_accuracy: 0.6772\n",
            "Epoch 49/50\n",
            "40/40 [==============================] - 3s 77ms/step - loss: 0.8842 - accuracy: 0.6949 - val_loss: 0.9304 - val_accuracy: 0.6778\n",
            "Epoch 50/50\n",
            "40/40 [==============================] - 3s 75ms/step - loss: 0.8761 - accuracy: 0.6966 - val_loss: 0.9119 - val_accuracy: 0.6890\n"
          ]
        }
      ]
    },
    {
      "cell_type": "code",
      "metadata": {
        "colab": {
          "base_uri": "https://localhost:8080/",
          "height": 302
        },
        "id": "foNl4uHBSc7U",
        "outputId": "ea1b2b9b-8da6-465b-baa0-2e941a3e1177"
      },
      "source": [
        "class_names=[\"airplane\",\"automobile\",\"bird\",\"cat\",\"deer\",\"dog\",\"frog\",\"horse\",\"ship\",\"truck\"]\n",
        "index = random.choice(range(0, 10000))\n",
        "result = y_test[index].argmax()\n",
        "\n",
        "print(f\"My test image[{index}] is a {class_names[result]}\")\n",
        "plt.imshow(x_test[index])"
      ],
      "execution_count": null,
      "outputs": [
        {
          "name": "stdout",
          "output_type": "stream",
          "text": [
            "My test image[678] is a airplane\n"
          ]
        },
        {
          "data": {
            "text/plain": [
              "<matplotlib.image.AxesImage at 0x7f770ccf59d0>"
            ]
          },
          "execution_count": 63,
          "metadata": {},
          "output_type": "execute_result"
        },
        {
          "data": {
            "image/png": "[encoded data removed]",
            "text/plain": [
              "<Figure size 432x288 with 1 Axes>"
            ]
          },
          "metadata": {},
          "output_type": "display_data"
        }
      ]
    },
    {
      "cell_type": "code",
      "metadata": {
        "colab": {
          "base_uri": "https://localhost:8080/"
        },
        "id": "HxofwyZfXTst",
        "outputId": "1df471ad-bc6a-4a80-a79a-de96a73e3e4d"
      },
      "source": [
        "test_image = x_test[index]\n",
        "print(test_image.shape)\n",
        "print(x_test.shape)"
      ],
      "execution_count": null,
      "outputs": [
        {
          "name": "stdout",
          "output_type": "stream",
          "text": [
            "(32, 32, 3)\n",
            "(10000, 32, 32, 3)\n"
          ]
        }
      ]
    },
    {
      "cell_type": "code",
      "metadata": {
        "colab": {
          "base_uri": "https://localhost:8080/"
        },
        "id": "mqsTeXVbZ-eL",
        "outputId": "163df8cb-70fb-4109-ca9e-a204d9444301"
      },
      "source": [
        "test_image = np.expand_dims(test_image, 0)\n",
        "print(test_image.shape)\n",
        "print(x_test.shape)"
      ],
      "execution_count": null,
      "outputs": [
        {
          "name": "stdout",
          "output_type": "stream",
          "text": [
            "(1, 32, 32, 3)\n",
            "(10000, 32, 32, 3)\n"
          ]
        }
      ]
    },
    {
      "cell_type": "code",
      "metadata": {
        "colab": {
          "base_uri": "https://localhost:8080/",
          "height": 301
        },
        "id": "SytG5FhlU-Qz",
        "outputId": "6157daa4-72db-46e2-e06a-9668af185f28"
      },
      "source": [
        "class_names=[\"airplane\",\"automobile\",\"bird\",\"cat\",\"deer\",\"dog\",\"frog\",\"horse\",\"ship\",\"truck\"]\n",
        "index = random.choice(range(0, 10000))\n",
        "\n",
        "# Array with a structure -> i.e: [.0, .0, .0, 0., 1, 0., 0., 0., 0., 0.]\n",
        "result = y_test[index].argmax()\n",
        "\n",
        "print(f\"My test image[{index}] is a {class_names[result]}\")\n",
        "plt.imshow(x_test[index])\n",
        "\n",
        "# Result\n",
        "\n",
        "test_image = x_test[index]\n",
        "test_image = np.expand_dims(test_image, 0)\n",
        "\n",
        "predict = model.predict(test_image)\n",
        "result_class = class_names[predict.argmax()]\n",
        "\n",
        "print(f\"My model says: {result_class}\")"
      ],
      "execution_count": null,
      "outputs": [
        {
          "name": "stdout",
          "output_type": "stream",
          "text": [
            "My test image[6082] is a airplane\n",
            "My model says: airplane\n"
          ]
        },
        {
          "data": {
            "image/png": "[encoded data removed]",
            "text/plain": [
              "<Figure size 432x288 with 1 Axes>"
            ]
          },
          "metadata": {},
          "output_type": "display_data"
        }
      ]
    },
    {
      "cell_type": "code",
      "metadata": {
        "colab": {
          "base_uri": "https://localhost:8080/",
          "height": 573
        },
        "id": "uLgA3CHn-cCm",
        "outputId": "9d572aa6-4d12-470e-cefb-51ade773e6d7"
      },
      "source": [
        "# summarize history for accuracy\n",
        "plt.plot(history.history['accuracy'])\n",
        "plt.plot(history.history['val_accuracy'])\n",
        "plt.title('model accuracy')\n",
        "plt.ylabel('accuracy')\n",
        "plt.xlabel('epoch')\n",
        "plt.legend(['train', 'test'], loc='upper left')\n",
        "plt.show()\n",
        "# summarize history for loss\n",
        "plt.plot(history.history['loss'])\n",
        "plt.plot(history.history['val_loss'])\n",
        "plt.title('model loss')\n",
        "plt.ylabel('loss')\n",
        "plt.xlabel('epoch')\n",
        "plt.legend(['train', 'test'], loc='upper left')\n",
        "plt.show()"
      ],
      "execution_count": null,
      "outputs": [
        {
          "data": {
            "image/png": "[encoded data removed]",
            "text/plain": [
              "<Figure size 432x288 with 1 Axes>"
            ]
          },
          "metadata": {},
          "output_type": "display_data"
        },
        {
          "data": {
            "image/png": "[encoded data removed]",
            "text/plain": [
              "<Figure size 432x288 with 1 Axes>"
            ]
          },
          "metadata": {},
          "output_type": "display_data"
        }
      ]
    },
    {
      "cell_type": "code",
      "metadata": {
        "colab": {
          "base_uri": "https://localhost:8080/"
        },
        "id": "yp3xSadLZ1B8",
        "outputId": "21170eae-f01b-4a58-f095-672f5f2e28fc"
      },
      "source": [
        "# Saving my model in drive\n",
        "\n",
        "from google.colab import drive\n",
        "drive.mount('/content/gdrive')"
      ],
      "execution_count": null,
      "outputs": [
        {
          "name": "stdout",
          "output_type": "stream",
          "text": [
            "Mounted at /content/gdrive\n"
          ]
        }
      ]
    },
    {
      "cell_type": "code",
      "metadata": {
        "colab": {
          "base_uri": "https://localhost:8080/"
        },
        "id": "UYrit7WLaI70",
        "outputId": "3fdbf5ff-3196-4911-c8a8-5a8055f5b33d"
      },
      "source": [
        "!ls /content/gdrive/MyDrive/compiledModels/CIFAR10"
      ],
      "execution_count": null,
      "outputs": [
        {
          "name": "stdout",
          "output_type": "stream",
          "text": [
            "my_model\n"
          ]
        }
      ]
    },
    {
      "cell_type": "code",
      "metadata": {
        "id": "ma4R4op9a9rb"
      },
      "source": [
        "model.save(\"/content/gdrive/MyDrive/compiledModels/CIFAR10/my_model.h5\")"
      ],
      "execution_count": null,
      "outputs": []
    },
    {
      "cell_type": "markdown",
      "metadata": {
        "id": "jCRcvcCYwy9K"
      },
      "source": [
        "**Versión reduciendo el overfitting**"
      ]
    },
    {
      "cell_type": "code",
      "metadata": {
        "id": "hyz__8TTw3_A"
      },
      "source": [
        "# En este modelo voy a reducir el número de neuronas, y aplicar dropouts layers\n",
        "\n",
        "def create_model_2() -> keras.Sequential:\n",
        "  # Modelo secuencial\n",
        "  cifar10_model = tf.keras.models.Sequential()\n",
        "\n",
        "  # Agrego la capa de entrada donde específico el tamaño de los datos de entrada\n",
        "  cifar10_model.add(tf.keras.layers.Input(shape=(32, 32, 3)))\n",
        "\n",
        "  # Agrego una capa convolucional con 32 filtros, con kernel size 3, dejando el mismo tamaño inicial (padding=same)\n",
        "  # Y aplico la activación mediante ReLU\n",
        "  cifar10_model.add(tf.keras.layers.Conv2D(filters=32, kernel_size=3, padding=\"same\", activation=\"relu\"))\n",
        "\n",
        "  # Capa de maxpool, pool_size -> Tamaño máximo de la ventana\n",
        "  # Strides, especifica cuanto recorre en cada paso que se realize en el pooling\n",
        "  cifar10_model.add(tf.keras.layers.MaxPool2D(pool_size=(2,2), strides=None))\n",
        "\n",
        "  #Agrego capa de Conv2D\n",
        "  cifar10_model.add(tf.keras.layers.Conv2D(filters=16, kernel_size=3, padding=\"same\", activation=\"relu\"))\n",
        "\n",
        "  #Agrego capa de maxpool\n",
        "  cifar10_model.add(tf.keras.layers.MaxPool2D(pool_size=(4,4), strides=None))\n",
        "\n",
        "  # Dropout layer permite generar conexiones aleatorias entre las capas\n",
        "  cifar10_model.add(tf.keras.layers.Dropout(0.5))\n",
        "\n",
        "  # Agrego la capa final (capa de 1 dimensión final)\n",
        "  cifar10_model.add(tf.keras.layers.Flatten())\n",
        "\n",
        "  # Debe distinguir entre 10 clases (categorías a clasificar) que se eligen mediante softmax\n",
        "  cifar10_model.add(tf.keras.layers.Dense(10, activation=\"softmax\"))\n",
        "\n",
        "  return cifar10_model"
      ],
      "execution_count": null,
      "outputs": []
    },
    {
      "cell_type": "code",
      "metadata": {
        "id": "z78Mb9DAO84A"
      },
      "source": [
        "# Pararé de entrenar el modelo cuando el porcentaje de error en el modelo de validación\n",
        "# empieze a subir. El modelo por lo general empezará a ir a peor cuanto mas entrena.\n",
        "\n",
        "# En este caso si está mas de 3 épocas sin mejora alguna el modelo se detendrá\n",
        "\n",
        "callback = keras.callbacks.EarlyStopping(monitor=\"val_loss\", patience=3)"
      ],
      "execution_count": null,
      "outputs": []
    },
    {
      "cell_type": "code",
      "metadata": {
        "colab": {
          "base_uri": "https://localhost:8080/",
          "height": 490
        },
        "id": "YHnZnp3qPZQh",
        "outputId": "d87ef9bf-681a-4940-a8ba-7eb86fa4ffed"
      },
      "source": [
        "model2 = create_model_2()\n",
        "model1 = create_model()\n",
        "\n",
        "model1.compile(loss='categorical_crossentropy',optimizer='adam',metrics=['accuracy'])\n",
        "model2.compile(loss='categorical_crossentropy',optimizer='adam',metrics=['accuracy'])\n",
        "\n",
        "history1 = model1.fit(x_train, y_train, epochs=10, batch_size=50, validation_split=0.05)\n",
        "history2 = model2.fit(x_train, y_train, callbacks=[callback], epochs=10, validation_split=0.4)"
      ],
      "execution_count": null,
      "outputs": [
        {
          "output_type": "stream",
          "name": "stdout",
          "text": [
            "Epoch 1/50\n",
            "950/950 [==============================] - 10s 10ms/step - loss: 1.5623 - accuracy: 0.4406 - val_loss: 1.2772 - val_accuracy: 0.5680\n",
            "Epoch 2/50\n",
            "950/950 [==============================] - 9s 9ms/step - loss: 1.2023 - accuracy: 0.5819 - val_loss: 1.1073 - val_accuracy: 0.6288\n",
            "Epoch 3/50\n",
            "692/950 [====================>.........] - ETA: 2s - loss: 1.0883 - accuracy: 0.6207"
          ]
        },
        {
          "output_type": "error",
          "ename": "KeyboardInterrupt",
          "evalue": "ignored",
          "traceback": [
            "\u001b[0;31m---------------------------------------------------------------------------\u001b[0m",
            "\u001b[0;31mKeyboardInterrupt\u001b[0m                         Traceback (most recent call last)",
            "\u001b[0;32m<ipython-input-19-c9f5d99c2d7f>\u001b[0m in \u001b[0;36m<module>\u001b[0;34m()\u001b[0m\n\u001b[1;32m      5\u001b[0m \u001b[0mmodel2\u001b[0m\u001b[0;34m.\u001b[0m\u001b[0mcompile\u001b[0m\u001b[0;34m(\u001b[0m\u001b[0mloss\u001b[0m\u001b[0;34m=\u001b[0m\u001b[0;34m'categorical_crossentropy'\u001b[0m\u001b[0;34m,\u001b[0m\u001b[0moptimizer\u001b[0m\u001b[0;34m=\u001b[0m\u001b[0;34m'adam'\u001b[0m\u001b[0;34m,\u001b[0m\u001b[0mmetrics\u001b[0m\u001b[0;34m=\u001b[0m\u001b[0;34m[\u001b[0m\u001b[0;34m'accuracy'\u001b[0m\u001b[0;34m]\u001b[0m\u001b[0;34m)\u001b[0m\u001b[0;34m\u001b[0m\u001b[0;34m\u001b[0m\u001b[0m\n\u001b[1;32m      6\u001b[0m \u001b[0;34m\u001b[0m\u001b[0m\n\u001b[0;32m----> 7\u001b[0;31m \u001b[0mhistory1\u001b[0m \u001b[0;34m=\u001b[0m \u001b[0mmodel1\u001b[0m\u001b[0;34m.\u001b[0m\u001b[0mfit\u001b[0m\u001b[0;34m(\u001b[0m\u001b[0mx_train\u001b[0m\u001b[0;34m,\u001b[0m \u001b[0my_train\u001b[0m\u001b[0;34m,\u001b[0m \u001b[0mepochs\u001b[0m\u001b[0;34m=\u001b[0m\u001b[0;36m50\u001b[0m\u001b[0;34m,\u001b[0m \u001b[0mbatch_size\u001b[0m\u001b[0;34m=\u001b[0m\u001b[0;36m50\u001b[0m\u001b[0;34m,\u001b[0m \u001b[0mvalidation_split\u001b[0m\u001b[0;34m=\u001b[0m\u001b[0;36m0.05\u001b[0m\u001b[0;34m)\u001b[0m\u001b[0;34m\u001b[0m\u001b[0;34m\u001b[0m\u001b[0m\n\u001b[0m\u001b[1;32m      8\u001b[0m \u001b[0mhistory2\u001b[0m \u001b[0;34m=\u001b[0m \u001b[0mmodel2\u001b[0m\u001b[0;34m.\u001b[0m\u001b[0mfit\u001b[0m\u001b[0;34m(\u001b[0m\u001b[0mx_train\u001b[0m\u001b[0;34m,\u001b[0m \u001b[0my_train\u001b[0m\u001b[0;34m,\u001b[0m \u001b[0mcallbacks\u001b[0m\u001b[0;34m=\u001b[0m\u001b[0;34m[\u001b[0m\u001b[0mcallback\u001b[0m\u001b[0;34m]\u001b[0m\u001b[0;34m,\u001b[0m \u001b[0mepochs\u001b[0m\u001b[0;34m=\u001b[0m\u001b[0;36m50\u001b[0m\u001b[0;34m,\u001b[0m \u001b[0mvalidation_split\u001b[0m\u001b[0;34m=\u001b[0m\u001b[0;36m0.4\u001b[0m\u001b[0;34m)\u001b[0m\u001b[0;34m\u001b[0m\u001b[0;34m\u001b[0m\u001b[0m\n",
            "\u001b[0;32m/usr/local/lib/python3.7/dist-packages/keras/utils/traceback_utils.py\u001b[0m in \u001b[0;36merror_handler\u001b[0;34m(*args, **kwargs)\u001b[0m\n\u001b[1;32m     62\u001b[0m     \u001b[0mfiltered_tb\u001b[0m \u001b[0;34m=\u001b[0m \u001b[0;32mNone\u001b[0m\u001b[0;34m\u001b[0m\u001b[0;34m\u001b[0m\u001b[0m\n\u001b[1;32m     63\u001b[0m     \u001b[0;32mtry\u001b[0m\u001b[0;34m:\u001b[0m\u001b[0;34m\u001b[0m\u001b[0;34m\u001b[0m\u001b[0m\n\u001b[0;32m---> 64\u001b[0;31m       \u001b[0;32mreturn\u001b[0m \u001b[0mfn\u001b[0m\u001b[0;34m(\u001b[0m\u001b[0;34m*\u001b[0m\u001b[0margs\u001b[0m\u001b[0;34m,\u001b[0m \u001b[0;34m**\u001b[0m\u001b[0mkwargs\u001b[0m\u001b[0;34m)\u001b[0m\u001b[0;34m\u001b[0m\u001b[0;34m\u001b[0m\u001b[0m\n\u001b[0m\u001b[1;32m     65\u001b[0m     \u001b[0;32mexcept\u001b[0m \u001b[0mException\u001b[0m \u001b[0;32mas\u001b[0m \u001b[0me\u001b[0m\u001b[0;34m:\u001b[0m  \u001b[0;31m# pylint: disable=broad-except\u001b[0m\u001b[0;34m\u001b[0m\u001b[0;34m\u001b[0m\u001b[0m\n\u001b[1;32m     66\u001b[0m       \u001b[0mfiltered_tb\u001b[0m \u001b[0;34m=\u001b[0m \u001b[0m_process_traceback_frames\u001b[0m\u001b[0;34m(\u001b[0m\u001b[0me\u001b[0m\u001b[0;34m.\u001b[0m\u001b[0m__traceback__\u001b[0m\u001b[0;34m)\u001b[0m\u001b[0;34m\u001b[0m\u001b[0;34m\u001b[0m\u001b[0m\n",
            "\u001b[0;32m/usr/local/lib/python3.7/dist-packages/keras/engine/training.py\u001b[0m in \u001b[0;36mfit\u001b[0;34m(self, x, y, batch_size, epochs, verbose, callbacks, validation_split, validation_data, shuffle, class_weight, sample_weight, initial_epoch, steps_per_epoch, validation_steps, validation_batch_size, validation_freq, max_queue_size, workers, use_multiprocessing)\u001b[0m\n\u001b[1;32m   1214\u001b[0m                 _r=1):\n\u001b[1;32m   1215\u001b[0m               \u001b[0mcallbacks\u001b[0m\u001b[0;34m.\u001b[0m\u001b[0mon_train_batch_begin\u001b[0m\u001b[0;34m(\u001b[0m\u001b[0mstep\u001b[0m\u001b[0;34m)\u001b[0m\u001b[0;34m\u001b[0m\u001b[0;34m\u001b[0m\u001b[0m\n\u001b[0;32m-> 1216\u001b[0;31m               \u001b[0mtmp_logs\u001b[0m \u001b[0;34m=\u001b[0m \u001b[0mself\u001b[0m\u001b[0;34m.\u001b[0m\u001b[0mtrain_function\u001b[0m\u001b[0;34m(\u001b[0m\u001b[0miterator\u001b[0m\u001b[0;34m)\u001b[0m\u001b[0;34m\u001b[0m\u001b[0;34m\u001b[0m\u001b[0m\n\u001b[0m\u001b[1;32m   1217\u001b[0m               \u001b[0;32mif\u001b[0m \u001b[0mdata_handler\u001b[0m\u001b[0;34m.\u001b[0m\u001b[0mshould_sync\u001b[0m\u001b[0;34m:\u001b[0m\u001b[0;34m\u001b[0m\u001b[0;34m\u001b[0m\u001b[0m\n\u001b[1;32m   1218\u001b[0m                 \u001b[0mcontext\u001b[0m\u001b[0;34m.\u001b[0m\u001b[0masync_wait\u001b[0m\u001b[0;34m(\u001b[0m\u001b[0;34m)\u001b[0m\u001b[0;34m\u001b[0m\u001b[0;34m\u001b[0m\u001b[0m\n",
            "\u001b[0;32m/usr/local/lib/python3.7/dist-packages/tensorflow/python/util/traceback_utils.py\u001b[0m in \u001b[0;36merror_handler\u001b[0;34m(*args, **kwargs)\u001b[0m\n\u001b[1;32m    148\u001b[0m     \u001b[0mfiltered_tb\u001b[0m \u001b[0;34m=\u001b[0m \u001b[0;32mNone\u001b[0m\u001b[0;34m\u001b[0m\u001b[0;34m\u001b[0m\u001b[0m\n\u001b[1;32m    149\u001b[0m     \u001b[0;32mtry\u001b[0m\u001b[0;34m:\u001b[0m\u001b[0;34m\u001b[0m\u001b[0;34m\u001b[0m\u001b[0m\n\u001b[0;32m--> 150\u001b[0;31m       \u001b[0;32mreturn\u001b[0m \u001b[0mfn\u001b[0m\u001b[0;34m(\u001b[0m\u001b[0;34m*\u001b[0m\u001b[0margs\u001b[0m\u001b[0;34m,\u001b[0m \u001b[0;34m**\u001b[0m\u001b[0mkwargs\u001b[0m\u001b[0;34m)\u001b[0m\u001b[0;34m\u001b[0m\u001b[0;34m\u001b[0m\u001b[0m\n\u001b[0m\u001b[1;32m    151\u001b[0m     \u001b[0;32mexcept\u001b[0m \u001b[0mException\u001b[0m \u001b[0;32mas\u001b[0m \u001b[0me\u001b[0m\u001b[0;34m:\u001b[0m\u001b[0;34m\u001b[0m\u001b[0;34m\u001b[0m\u001b[0m\n\u001b[1;32m    152\u001b[0m       \u001b[0mfiltered_tb\u001b[0m \u001b[0;34m=\u001b[0m \u001b[0m_process_traceback_frames\u001b[0m\u001b[0;34m(\u001b[0m\u001b[0me\u001b[0m\u001b[0;34m.\u001b[0m\u001b[0m__traceback__\u001b[0m\u001b[0;34m)\u001b[0m\u001b[0;34m\u001b[0m\u001b[0;34m\u001b[0m\u001b[0m\n",
            "\u001b[0;32m/usr/local/lib/python3.7/dist-packages/tensorflow/python/eager/def_function.py\u001b[0m in \u001b[0;36m__call__\u001b[0;34m(self, *args, **kwds)\u001b[0m\n\u001b[1;32m    908\u001b[0m \u001b[0;34m\u001b[0m\u001b[0m\n\u001b[1;32m    909\u001b[0m       \u001b[0;32mwith\u001b[0m \u001b[0mOptionalXlaContext\u001b[0m\u001b[0;34m(\u001b[0m\u001b[0mself\u001b[0m\u001b[0;34m.\u001b[0m\u001b[0m_jit_compile\u001b[0m\u001b[0;34m)\u001b[0m\u001b[0;34m:\u001b[0m\u001b[0;34m\u001b[0m\u001b[0;34m\u001b[0m\u001b[0m\n\u001b[0;32m--> 910\u001b[0;31m         \u001b[0mresult\u001b[0m \u001b[0;34m=\u001b[0m \u001b[0mself\u001b[0m\u001b[0;34m.\u001b[0m\u001b[0m_call\u001b[0m\u001b[0;34m(\u001b[0m\u001b[0;34m*\u001b[0m\u001b[0margs\u001b[0m\u001b[0;34m,\u001b[0m \u001b[0;34m**\u001b[0m\u001b[0mkwds\u001b[0m\u001b[0;34m)\u001b[0m\u001b[0;34m\u001b[0m\u001b[0;34m\u001b[0m\u001b[0m\n\u001b[0m\u001b[1;32m    911\u001b[0m \u001b[0;34m\u001b[0m\u001b[0m\n\u001b[1;32m    912\u001b[0m       \u001b[0mnew_tracing_count\u001b[0m \u001b[0;34m=\u001b[0m \u001b[0mself\u001b[0m\u001b[0;34m.\u001b[0m\u001b[0mexperimental_get_tracing_count\u001b[0m\u001b[0;34m(\u001b[0m\u001b[0;34m)\u001b[0m\u001b[0;34m\u001b[0m\u001b[0;34m\u001b[0m\u001b[0m\n",
            "\u001b[0;32m/usr/local/lib/python3.7/dist-packages/tensorflow/python/eager/def_function.py\u001b[0m in \u001b[0;36m_call\u001b[0;34m(self, *args, **kwds)\u001b[0m\n\u001b[1;32m    940\u001b[0m       \u001b[0;31m# In this case we have created variables on the first call, so we run the\u001b[0m\u001b[0;34m\u001b[0m\u001b[0;34m\u001b[0m\u001b[0;34m\u001b[0m\u001b[0m\n\u001b[1;32m    941\u001b[0m       \u001b[0;31m# defunned version which is guaranteed to never create variables.\u001b[0m\u001b[0;34m\u001b[0m\u001b[0;34m\u001b[0m\u001b[0;34m\u001b[0m\u001b[0m\n\u001b[0;32m--> 942\u001b[0;31m       \u001b[0;32mreturn\u001b[0m \u001b[0mself\u001b[0m\u001b[0;34m.\u001b[0m\u001b[0m_stateless_fn\u001b[0m\u001b[0;34m(\u001b[0m\u001b[0;34m*\u001b[0m\u001b[0margs\u001b[0m\u001b[0;34m,\u001b[0m \u001b[0;34m**\u001b[0m\u001b[0mkwds\u001b[0m\u001b[0;34m)\u001b[0m  \u001b[0;31m# pylint: disable=not-callable\u001b[0m\u001b[0;34m\u001b[0m\u001b[0;34m\u001b[0m\u001b[0m\n\u001b[0m\u001b[1;32m    943\u001b[0m     \u001b[0;32melif\u001b[0m \u001b[0mself\u001b[0m\u001b[0;34m.\u001b[0m\u001b[0m_stateful_fn\u001b[0m \u001b[0;32mis\u001b[0m \u001b[0;32mnot\u001b[0m \u001b[0;32mNone\u001b[0m\u001b[0;34m:\u001b[0m\u001b[0;34m\u001b[0m\u001b[0;34m\u001b[0m\u001b[0m\n\u001b[1;32m    944\u001b[0m       \u001b[0;31m# Release the lock early so that multiple threads can perform the call\u001b[0m\u001b[0;34m\u001b[0m\u001b[0;34m\u001b[0m\u001b[0;34m\u001b[0m\u001b[0m\n",
            "\u001b[0;32m/usr/local/lib/python3.7/dist-packages/tensorflow/python/eager/function.py\u001b[0m in \u001b[0;36m__call__\u001b[0;34m(self, *args, **kwargs)\u001b[0m\n\u001b[1;32m   3129\u001b[0m        filtered_flat_args) = self._maybe_define_function(args, kwargs)\n\u001b[1;32m   3130\u001b[0m     return graph_function._call_flat(\n\u001b[0;32m-> 3131\u001b[0;31m         filtered_flat_args, captured_inputs=graph_function.captured_inputs)  # pylint: disable=protected-access\n\u001b[0m\u001b[1;32m   3132\u001b[0m \u001b[0;34m\u001b[0m\u001b[0m\n\u001b[1;32m   3133\u001b[0m   \u001b[0;34m@\u001b[0m\u001b[0mproperty\u001b[0m\u001b[0;34m\u001b[0m\u001b[0;34m\u001b[0m\u001b[0m\n",
            "\u001b[0;32m/usr/local/lib/python3.7/dist-packages/tensorflow/python/eager/function.py\u001b[0m in \u001b[0;36m_call_flat\u001b[0;34m(self, args, captured_inputs, cancellation_manager)\u001b[0m\n\u001b[1;32m   1958\u001b[0m       \u001b[0;31m# No tape is watching; skip to running the function.\u001b[0m\u001b[0;34m\u001b[0m\u001b[0;34m\u001b[0m\u001b[0;34m\u001b[0m\u001b[0m\n\u001b[1;32m   1959\u001b[0m       return self._build_call_outputs(self._inference_function.call(\n\u001b[0;32m-> 1960\u001b[0;31m           ctx, args, cancellation_manager=cancellation_manager))\n\u001b[0m\u001b[1;32m   1961\u001b[0m     forward_backward = self._select_forward_and_backward_functions(\n\u001b[1;32m   1962\u001b[0m         \u001b[0margs\u001b[0m\u001b[0;34m,\u001b[0m\u001b[0;34m\u001b[0m\u001b[0;34m\u001b[0m\u001b[0m\n",
            "\u001b[0;32m/usr/local/lib/python3.7/dist-packages/tensorflow/python/eager/function.py\u001b[0m in \u001b[0;36mcall\u001b[0;34m(self, ctx, args, cancellation_manager)\u001b[0m\n\u001b[1;32m    601\u001b[0m               \u001b[0minputs\u001b[0m\u001b[0;34m=\u001b[0m\u001b[0margs\u001b[0m\u001b[0;34m,\u001b[0m\u001b[0;34m\u001b[0m\u001b[0;34m\u001b[0m\u001b[0m\n\u001b[1;32m    602\u001b[0m               \u001b[0mattrs\u001b[0m\u001b[0;34m=\u001b[0m\u001b[0mattrs\u001b[0m\u001b[0;34m,\u001b[0m\u001b[0;34m\u001b[0m\u001b[0;34m\u001b[0m\u001b[0m\n\u001b[0;32m--> 603\u001b[0;31m               ctx=ctx)\n\u001b[0m\u001b[1;32m    604\u001b[0m         \u001b[0;32melse\u001b[0m\u001b[0;34m:\u001b[0m\u001b[0;34m\u001b[0m\u001b[0;34m\u001b[0m\u001b[0m\n\u001b[1;32m    605\u001b[0m           outputs = execute.execute_with_cancellation(\n",
            "\u001b[0;32m/usr/local/lib/python3.7/dist-packages/tensorflow/python/eager/execute.py\u001b[0m in \u001b[0;36mquick_execute\u001b[0;34m(op_name, num_outputs, inputs, attrs, ctx, name)\u001b[0m\n\u001b[1;32m     57\u001b[0m     \u001b[0mctx\u001b[0m\u001b[0;34m.\u001b[0m\u001b[0mensure_initialized\u001b[0m\u001b[0;34m(\u001b[0m\u001b[0;34m)\u001b[0m\u001b[0;34m\u001b[0m\u001b[0;34m\u001b[0m\u001b[0m\n\u001b[1;32m     58\u001b[0m     tensors = pywrap_tfe.TFE_Py_Execute(ctx._handle, device_name, op_name,\n\u001b[0;32m---> 59\u001b[0;31m                                         inputs, attrs, num_outputs)\n\u001b[0m\u001b[1;32m     60\u001b[0m   \u001b[0;32mexcept\u001b[0m \u001b[0mcore\u001b[0m\u001b[0;34m.\u001b[0m\u001b[0m_NotOkStatusException\u001b[0m \u001b[0;32mas\u001b[0m \u001b[0me\u001b[0m\u001b[0;34m:\u001b[0m\u001b[0;34m\u001b[0m\u001b[0;34m\u001b[0m\u001b[0m\n\u001b[1;32m     61\u001b[0m     \u001b[0;32mif\u001b[0m \u001b[0mname\u001b[0m \u001b[0;32mis\u001b[0m \u001b[0;32mnot\u001b[0m \u001b[0;32mNone\u001b[0m\u001b[0;34m:\u001b[0m\u001b[0;34m\u001b[0m\u001b[0;34m\u001b[0m\u001b[0m\n",
            "\u001b[0;31mKeyboardInterrupt\u001b[0m: "
          ]
        }
      ]
    },
    {
      "cell_type": "code",
      "metadata": {
        "colab": {
          "base_uri": "https://localhost:8080/",
          "height": 573
        },
        "id": "9dbjk57gQQum",
        "outputId": "0a5bb1ee-9013-4a35-9ca1-7682e3f5c53e"
      },
      "source": [
        "# Modelo anterior que tenía\n",
        "plt.plot(history1.history['accuracy'])\n",
        "plt.plot(history1.history['val_accuracy'])\n",
        "plt.title('model accuracy')\n",
        "plt.ylabel('accuracy')\n",
        "plt.xlabel('epoch')\n",
        "plt.legend(['train', 'test'], loc='upper left')\n",
        "plt.show()\n",
        "\n",
        "plt.plot(history1.history['loss'])\n",
        "plt.plot(history1.history['val_loss'])\n",
        "plt.title('model loss')\n",
        "plt.ylabel('loss')\n",
        "plt.xlabel('epoch')\n",
        "plt.legend(['train', 'test'], loc='upper left')\n",
        "plt.show()"
      ],
      "execution_count": null,
      "outputs": [
        {
          "data": {
            "image/png": "[encoded data removed]",
            "text/plain": [
              "<Figure size 432x288 with 1 Axes>"
            ]
          },
          "metadata": {},
          "output_type": "display_data"
        },
        {
          "data": {
            "image/png": "[encoded data removed]",
            "text/plain": [
              "<Figure size 432x288 with 1 Axes>"
            ]
          },
          "metadata": {},
          "output_type": "display_data"
        }
      ]
    },
    {
      "cell_type": "code",
      "metadata": {
        "colab": {
          "base_uri": "https://localhost:8080/",
          "height": 573
        },
        "id": "VIk6u7a0S8Tk",
        "outputId": "52464d5e-fd0a-4e73-c62c-3d1f67e16b1f"
      },
      "source": [
        "# Modelo actual intentando reducir el overfitting\n",
        "plt.plot(history2.history['accuracy'])\n",
        "plt.plot(history2.history['val_accuracy'])\n",
        "plt.title('model accuracy')\n",
        "plt.ylabel('accuracy')\n",
        "plt.xlabel('epoch')\n",
        "plt.legend(['train', 'test'], loc='upper left')\n",
        "plt.show()\n",
        "\n",
        "plt.plot(history2.history['loss'])\n",
        "plt.plot(history2.history['val_loss'])\n",
        "plt.title('model loss')\n",
        "plt.ylabel('loss')\n",
        "plt.xlabel('epoch')\n",
        "plt.legend(['train', 'test'], loc='upper left')\n",
        "plt.show()"
      ],
      "execution_count": null,
      "outputs": [
        {
          "data": {
            "image/png": "[encoded data removed]",
            "text/plain": [
              "<Figure size 432x288 with 1 Axes>"
            ]
          },
          "metadata": {},
          "output_type": "display_data"
        },
        {
          "data": {
            "image/png": "[encoded data removed]",
            "text/plain": [
              "<Figure size 432x288 with 1 Axes>"
            ]
          },
          "metadata": {},
          "output_type": "display_data"
        }
      ]
    },
    {
      "cell_type": "code",
      "metadata": {
        "colab": {
          "base_uri": "https://localhost:8080/"
        },
        "id": "FHWiXc2KXAby",
        "outputId": "e346c01c-c63e-448e-bfb1-bae9a04f20d3"
      },
      "source": [
        "model1.evaluate(x_test, y_test)\n",
        "model2.evaluate(x_test, y_test)"
      ],
      "execution_count": null,
      "outputs": [
        {
          "name": "stdout",
          "output_type": "stream",
          "text": [
            "313/313 [==============================] - 2s 5ms/step - loss: 0.9161 - accuracy: 0.6988\n",
            "313/313 [==============================] - 2s 5ms/step - loss: 1.0220 - accuracy: 0.6441\n"
          ]
        },
        {
          "data": {
            "text/plain": [
              "[1.0220246315002441, 0.64410001039505]"
            ]
          },
          "execution_count": 13,
          "metadata": {},
          "output_type": "execute_result"
        }
      ]
    },
    {
      "cell_type": "code",
      "metadata": {
        "id": "E5OzyWkbjkIX"
      },
      "source": [
        "def create_model_3() -> keras.Sequential:\n",
        "\n",
        "  num_classes = 10\n",
        "  img_height = 32\n",
        "  img_width = 32\n",
        "\n",
        "  # Aplico pequeñas variaciones a las imágenes para que así entrene de forma mas genérica\n",
        "  data_augmentation = keras.Sequential(\n",
        "  [\n",
        "    keras.layers.RandomFlip(\"horizontal\",\n",
        "                      input_shape=(img_height,\n",
        "                                  img_width,\n",
        "                                  3)),\n",
        "    keras.layers.RandomRotation(0.1),\n",
        "    keras.layers.RandomZoom(0.1),\n",
        "  ]\n",
        "  )\n",
        "\n",
        "  model = keras.Sequential([\n",
        "  data_augmentation,\n",
        "  keras.layers.Rescaling(1./255),\n",
        "  keras.layers.Conv2D(16, 3, padding='same', activation='relu'),\n",
        "  keras.layers.MaxPooling2D(),\n",
        "  keras.layers.Conv2D(32, 3, padding='same', activation='relu'),\n",
        "  keras.layers.MaxPooling2D(),\n",
        "  keras.layers.Conv2D(64, 3, padding='same', activation='relu'),\n",
        "  keras.layers.MaxPooling2D(),\n",
        "  keras.layers.Dropout(0.2),\n",
        "  keras.layers.Flatten(),\n",
        "  keras.layers.Dense(128, activation='relu'),\n",
        "  keras.layers.Dense(num_classes)\n",
        "  ])\n",
        "\n",
        "  return model\n"
      ],
      "execution_count": null,
      "outputs": []
    },
    {
      "cell_type": "code",
      "metadata": {
        "colab": {
          "base_uri": "https://localhost:8080/"
        },
        "id": "12TypUWFjv1q",
        "outputId": "4fac94d3-367f-4c5d-b6b8-b0092b1dd740"
      },
      "source": [
        "model = create_model_3()\n",
        "\n",
        "model.compile(optimizer='adam',\n",
        "              loss='categorical_crossentropy',\n",
        "              metrics=['accuracy'])\n",
        "\n",
        "model.summary()\n"
      ],
      "execution_count": null,
      "outputs": [
        {
          "output_type": "stream",
          "name": "stdout",
          "text": [
            "Model: \"sequential_8\"\n",
            "_________________________________________________________________\n",
            " Layer (type)                Output Shape              Param #   \n",
            "=================================================================\n",
            " sequential_7 (Sequential)   (None, 32, 32, 3)         0         \n",
            "                                                                 \n",
            " rescaling (Rescaling)       (None, 32, 32, 3)         0         \n",
            "                                                                 \n",
            " conv2d_14 (Conv2D)          (None, 32, 32, 16)        448       \n",
            "                                                                 \n",
            " max_pooling2d_14 (MaxPoolin  (None, 16, 16, 16)       0         \n",
            " g2D)                                                            \n",
            "                                                                 \n",
            " conv2d_15 (Conv2D)          (None, 16, 16, 32)        4640      \n",
            "                                                                 \n",
            " max_pooling2d_15 (MaxPoolin  (None, 8, 8, 32)         0         \n",
            " g2D)                                                            \n",
            "                                                                 \n",
            " conv2d_16 (Conv2D)          (None, 8, 8, 64)          18496     \n",
            "                                                                 \n",
            " max_pooling2d_16 (MaxPoolin  (None, 4, 4, 64)         0         \n",
            " g2D)                                                            \n",
            "                                                                 \n",
            " dropout_7 (Dropout)         (None, 4, 4, 64)          0         \n",
            "                                                                 \n",
            " flatten_7 (Flatten)         (None, 1024)              0         \n",
            "                                                                 \n",
            " dense_7 (Dense)             (None, 128)               131200    \n",
            "                                                                 \n",
            " dense_8 (Dense)             (None, 10)                1290      \n",
            "                                                                 \n",
            "=================================================================\n",
            "Total params: 156,074\n",
            "Trainable params: 156,074\n",
            "Non-trainable params: 0\n",
            "_________________________________________________________________\n"
          ]
        }
      ]
    },
    {
      "cell_type": "code",
      "metadata": {
        "colab": {
          "base_uri": "https://localhost:8080/"
        },
        "id": "pQlMuNRYk0_T",
        "outputId": "2f6461db-2839-48fa-f71c-d886f3983341"
      },
      "source": [
        "callback = keras.callbacks.EarlyStopping(monitor=\"val_loss\", patience=10)\n",
        "\n",
        "history = model.fit(x_train, y_train, epochs=300, callbacks=[callback], batch_size=10,validation_split=0.1)"
      ],
      "execution_count": null,
      "outputs": [
        {
          "output_type": "stream",
          "name": "stdout",
          "text": [
            "Epoch 1/300\n",
            "4500/4500 [==============================] - 38s 8ms/step - loss: 8.0497 - accuracy: 0.1005 - val_loss: 8.2718 - val_accuracy: 0.0936\n",
            "Epoch 2/300\n",
            "4500/4500 [==============================] - 38s 8ms/step - loss: 8.0497 - accuracy: 0.1005 - val_loss: 8.2718 - val_accuracy: 0.0936\n",
            "Epoch 3/300\n",
            "4500/4500 [==============================] - 37s 8ms/step - loss: 8.0497 - accuracy: 0.1005 - val_loss: 8.2718 - val_accuracy: 0.0936\n",
            "Epoch 4/300\n",
            "4500/4500 [==============================] - 37s 8ms/step - loss: 8.0497 - accuracy: 0.1005 - val_loss: 8.2718 - val_accuracy: 0.0936\n",
            "Epoch 5/300\n",
            "4500/4500 [==============================] - 37s 8ms/step - loss: 8.0497 - accuracy: 0.1005 - val_loss: 8.2718 - val_accuracy: 0.0936\n",
            "Epoch 6/300\n",
            "4500/4500 [==============================] - 37s 8ms/step - loss: 8.0497 - accuracy: 0.1005 - val_loss: 8.2718 - val_accuracy: 0.0936\n",
            "Epoch 7/300\n",
            "4500/4500 [==============================] - 37s 8ms/step - loss: 8.0497 - accuracy: 0.1005 - val_loss: 8.2718 - val_accuracy: 0.0936\n",
            "Epoch 8/300\n",
            "4500/4500 [==============================] - 37s 8ms/step - loss: 8.0497 - accuracy: 0.1005 - val_loss: 8.2718 - val_accuracy: 0.0936\n",
            "Epoch 9/300\n",
            "4500/4500 [==============================] - 38s 8ms/step - loss: 8.0497 - accuracy: 0.1005 - val_loss: 8.2718 - val_accuracy: 0.0936\n",
            "Epoch 10/300\n",
            "4500/4500 [==============================] - 41s 9ms/step - loss: 8.0497 - accuracy: 0.1005 - val_loss: 8.2718 - val_accuracy: 0.0936\n",
            "Epoch 11/300\n",
            "4500/4500 [==============================] - 40s 9ms/step - loss: 8.0497 - accuracy: 0.1005 - val_loss: 8.2718 - val_accuracy: 0.0936\n"
          ]
        }
      ]
    },
    {
      "cell_type": "code",
      "metadata": {
        "colab": {
          "base_uri": "https://localhost:8080/",
          "height": 573
        },
        "id": "nQzxG9t9oBE6",
        "outputId": "b64f03f9-265e-4d26-bc98-828c61c52dc1"
      },
      "source": [
        "# summarize history for accuracy\n",
        "plt.plot(history.history['accuracy'])\n",
        "plt.plot(history.history['val_accuracy'])\n",
        "plt.title('model accuracy')\n",
        "plt.ylabel('accuracy')\n",
        "plt.xlabel('epoch')\n",
        "plt.legend(['train', 'test'], loc='upper left')\n",
        "plt.show()\n",
        "# summarize history for loss\n",
        "plt.plot(history.history['loss'])\n",
        "plt.plot(history.history['val_loss'])\n",
        "plt.title('model loss')\n",
        "plt.ylabel('loss')\n",
        "plt.xlabel('epoch')\n",
        "plt.legend(['train', 'test'], loc='upper left')\n",
        "plt.show()"
      ],
      "execution_count": null,
      "outputs": [
        {
          "output_type": "display_data",
          "data": {
            "image/png": "[encoded data removed]",
            "text/plain": [
              "<Figure size 432x288 with 1 Axes>"
            ]
          },
          "metadata": {
            "needs_background": "light"
          }
        },
        {
          "output_type": "display_data",
          "data": {
            "image/png": "[encoded data removed]",
            "text/plain": [
              "<Figure size 432x288 with 1 Axes>"
            ]
          },
          "metadata": {
            "needs_background": "light"
          }
        }
      ]
    },
    {
      "cell_type": "code",
      "metadata": {
        "colab": {
          "base_uri": "https://localhost:8080/"
        },
        "id": "Mo1jJA2uoI6S",
        "outputId": "6cc7e7aa-c141-4dda-c77f-9ede2224d19d"
      },
      "source": [
        "model.evaluate(x_test, y_test)"
      ],
      "execution_count": null,
      "outputs": [
        {
          "output_type": "stream",
          "name": "stdout",
          "text": [
            "313/313 [==============================] - 2s 5ms/step - loss: 0.8227 - accuracy: 0.7468\n"
          ]
        },
        {
          "output_type": "execute_result",
          "data": {
            "text/plain": [
              "[0.82273268699646, 0.7468000054359436]"
            ]
          },
          "metadata": {},
          "execution_count": 38
        }
      ]
    }
  ]
}